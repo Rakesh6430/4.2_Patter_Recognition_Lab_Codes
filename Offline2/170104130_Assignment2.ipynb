{
  "nbformat": 4,
  "nbformat_minor": 0,
  "metadata": {
    "colab": {
      "name": "170104130_Assignment2.ipynb",
      "provenance": [],
      "collapsed_sections": []
    },
    "kernelspec": {
      "name": "python3",
      "display_name": "Python 3"
    },
    "language_info": {
      "name": "python"
    }
  },
  "cells": [
    {
      "cell_type": "code",
      "metadata": {
        "id": "UHe5jZWlKWDb"
      },
      "source": [
        "import numpy as np\n",
        "import pandas as pd\n",
        "import matplotlib.pyplot as plt\n"
      ],
      "execution_count": 2,
      "outputs": []
    },
    {
      "cell_type": "code",
      "metadata": {
        "colab": {
          "base_uri": "https://localhost:8080/"
        },
        "id": "eNOv_ykAKt4V",
        "outputId": "65e05fe6-8291-42fd-d83c-b05ff9671658"
      },
      "source": [
        "#read the file\n",
        "traindata =np.array([[1,1,1],[1,-1,1], [2,2.5,2], [0,2,2] , [2,3,2], [4,5,1]])\n",
        "print(traindata)\n",
        "\n"
      ],
      "execution_count": 3,
      "outputs": [
        {
          "output_type": "stream",
          "text": [
            "[[ 1.   1.   1. ]\n",
            " [ 1.  -1.   1. ]\n",
            " [ 2.   2.5  2. ]\n",
            " [ 0.   2.   2. ]\n",
            " [ 2.   3.   2. ]\n",
            " [ 4.   5.   1. ]]\n"
          ],
          "name": "stdout"
        }
      ]
    },
    {
      "cell_type": "code",
      "metadata": {
        "id": "5shTmfzOLIsv"
      },
      "source": [
        "#if the class value is 1 then store it in class 1 else class 2\n",
        "class1=[[x[0],x[1]] for x in traindata if x[2]==1]\n",
        "class2=[[x[0],x[1]] for x in traindata if x[2]==2]\n",
        "class1 = np.array(class1)\n",
        "class2 = np.array(class2)\n"
      ],
      "execution_count": 4,
      "outputs": []
    },
    {
      "cell_type": "code",
      "metadata": {
        "colab": {
          "base_uri": "https://localhost:8080/"
        },
        "id": "X0AtDrh4Xi3C",
        "outputId": "90715f51-dcd8-4e46-b8bf-998fdd5378af"
      },
      "source": [
        "print(class1)\n",
        "print(class2)"
      ],
      "execution_count": 5,
      "outputs": [
        {
          "output_type": "stream",
          "text": [
            "[[ 1.  1.]\n",
            " [ 1. -1.]\n",
            " [ 4.  5.]]\n",
            "[[2.  2.5]\n",
            " [0.  2. ]\n",
            " [2.  3. ]]\n"
          ],
          "name": "stdout"
        }
      ]
    },
    {
      "cell_type": "code",
      "metadata": {
        "colab": {
          "base_uri": "https://localhost:8080/",
          "height": 320
        },
        "id": "Sswgg6kHXl6J",
        "outputId": "eb5f9390-8bec-4486-808d-6118c357981c"
      },
      "source": [
        "#plot the training data\n",
        "fig, ax = plt.subplots()\n",
        "fig.set_figheight(5)\n",
        "fig.set_figwidth(10)\n",
        "ax.scatter(class1[:,0],class1[:,1],marker='o',color='r',label='Train Class 1')\n",
        "ax.scatter(class2[:,0],class2[:,1],marker='*',color='g',label='Train Class 2')\n",
        "legend = ax.legend(loc='upper left', shadow=False, fontsize='small',labelspacing=0.5)\n",
        "legend.get_frame().set_facecolor('None')\n",
        "plt.show()\n"
      ],
      "execution_count": 47,
      "outputs": [
        {
          "output_type": "display_data",
          "data": {
            "image/png": "[encoded data removed]",
            "text/plain": [
              "<Figure size 720x360 with 1 Axes>"
            ]
          },
          "metadata": {
            "tags": [],
            "needs_background": "light"
          }
        }
      ]
    },
    {
      "cell_type": "code",
      "metadata": {
        "id": "5d06GsmmYOoP",
        "colab": {
          "base_uri": "https://localhost:8080/"
        },
        "outputId": "3c3d0d2a-0f85-4674-dfe3-b8fa6935f9d8"
      },
      "source": [
        "phi_class1 = np.empty((0,6), int)\n",
        "phi_class2 = np.empty((0, 6), int)\n",
        "print(phi_class1)\n",
        "print(len(phi_class1))\n",
        "\n",
        "print(phi_class2)\n",
        "print(len(phi_class2))\n"
      ],
      "execution_count": 49,
      "outputs": [
        {
          "output_type": "stream",
          "text": [
            "[]\n",
            "0\n",
            "[]\n",
            "0\n"
          ],
          "name": "stdout"
        }
      ]
    },
    {
      "cell_type": "code",
      "metadata": {
        "colab": {
          "base_uri": "https://localhost:8080/"
        },
        "id": "0uBxmyDq14KN",
        "outputId": "394809f8-74f9-4b79-bcf6-144f9e19130a"
      },
      "source": [
        "for i in range(len(class1)):\n",
        "  x1 = class1[i][0]\n",
        "  x2 = class1[i][1]\n",
        "  phi_class1 = np.append(phi_class1, np.array([[ x1**2, x2**2, x1*x2, x1, x2, 1]]), axis=0)\n",
        "print(phi_class1)"
      ],
      "execution_count": 50,
      "outputs": [
        {
          "output_type": "stream",
          "text": [
            "[[ 1.  1.  1.  1.  1.  1.]\n",
            " [ 1.  1. -1.  1. -1.  1.]\n",
            " [16. 25. 20.  4.  5.  1.]]\n"
          ],
          "name": "stdout"
        }
      ]
    },
    {
      "cell_type": "code",
      "metadata": {
        "colab": {
          "base_uri": "https://localhost:8080/"
        },
        "id": "y8nF11LB2VVN",
        "outputId": "204dc0f6-11ef-419a-f4f9-fb86da895269"
      },
      "source": [
        "for i in range(len(class2)):\n",
        "  x1 = class2[i][0]\n",
        "  x2 = class2[i][1]\n",
        "  phi_class2 = np.append(phi_class2, np.array([[ x1**2, x2**2, x1*x2, x1, x2, 1]]), axis=0)\n",
        "print(phi_class2)"
      ],
      "execution_count": 51,
      "outputs": [
        {
          "output_type": "stream",
          "text": [
            "[[4.   6.25 5.   2.   2.5  1.  ]\n",
            " [0.   4.   0.   0.   2.   1.  ]\n",
            " [4.   9.   6.   2.   3.   1.  ]]\n"
          ],
          "name": "stdout"
        }
      ]
    },
    {
      "cell_type": "code",
      "metadata": {
        "colab": {
          "base_uri": "https://localhost:8080/"
        },
        "id": "LlG3dt6o2cUp",
        "outputId": "685220dd-1b9f-4704-b3a7-120cd70925fd"
      },
      "source": [
        "phi_class2 *= -1\n",
        "\n",
        "phi_all_class = np.concatenate((phi_class1, phi_class2), axis = 0)\n",
        "\n",
        "print(phi_class1)\n",
        "print(phi_class2)"
      ],
      "execution_count": 52,
      "outputs": [
        {
          "output_type": "stream",
          "text": [
            "[[ 1.  1.  1.  1.  1.  1.]\n",
            " [ 1.  1. -1.  1. -1.  1.]\n",
            " [16. 25. 20.  4.  5.  1.]]\n",
            "[[-4.   -6.25 -5.   -2.   -2.5  -1.  ]\n",
            " [-0.   -4.   -0.   -0.   -2.   -1.  ]\n",
            " [-4.   -9.   -6.   -2.   -3.   -1.  ]]\n"
          ],
          "name": "stdout"
        }
      ]
    },
    {
      "cell_type": "code",
      "metadata": {
        "id": "XePyFXKW2htW"
      },
      "source": [
        "def oneAtATime(initial_weight, learning_rate):\n",
        "  count = 0\n",
        "  for i in range(500):\n",
        "    count = i\n",
        "    flag = 0\n",
        "    for i in range( len(phi_all_class)):\n",
        "      if np.dot(phi_all_class[i], initial_weight) > 0:\n",
        "        pass\n",
        "      else:\n",
        "        initial_weight = initial_weight + (learning_rate * phi_all_class[i])\n",
        "        flag = 1\n",
        "    \n",
        "    if flag == 0:\n",
        "      break;\n",
        "  return count+1"
      ],
      "execution_count": 53,
      "outputs": []
    },
    {
      "cell_type": "code",
      "metadata": {
        "id": "p2e3Ns_s2yZg"
      },
      "source": [
        "def result_one(initial_weight, learning_rate):\n",
        "  res = []\n",
        "  for i in range(10):\n",
        "    res.append(oneAtATime(initial_weight, learning_rate[i]))\n",
        "  return res;\n",
        "  print(res)"
      ],
      "execution_count": 54,
      "outputs": []
    },
    {
      "cell_type": "code",
      "metadata": {
        "id": "q95ZrJvU23xo"
      },
      "source": [
        "def manyAtATime(initial_weight, learning_rate):\n",
        "  count = 0\n",
        "  for i in range( 500):\n",
        "    count = i\n",
        "    weight = np.array([ 0, 0, 0, 0, 0, 0])\n",
        "    flag = 0\n",
        "    for i in range(0, len(phi_all_class)):\n",
        "      if np.dot(phi_all_class[i], initial_weight) > 0:\n",
        "        pass\n",
        "      else:\n",
        "        weight = weight + (learning_rate * phi_all_class[i])\n",
        "        flag = 1\n",
        "    \n",
        "    initial_weight = np.add(initial_weight, weight)\n",
        "\n",
        "    if flag == 0:\n",
        "      break;\n",
        "  return count+1"
      ],
      "execution_count": 19,
      "outputs": []
    },
    {
      "cell_type": "code",
      "metadata": {
        "id": "9Ff6rOdi2_hZ"
      },
      "source": [
        "def result_many(initial_weight, learning_rate):\n",
        "  res = []\n",
        "  for i in range(10):\n",
        "    res.append(manyAtATime(initial_weight, learning_rate[i]))\n",
        "  return res;"
      ],
      "execution_count": 55,
      "outputs": []
    },
    {
      "cell_type": "code",
      "metadata": {
        "id": "K4VfIRfn3cPe"
      },
      "source": [
        "def printResult(learning_rate, result_oneAtATime, result_manyAtATime):\n",
        "  print(\"Alpha(learning rate)\\tOne at a time\\tMany at a time\")\n",
        "  for i in range(10):\n",
        "    print(learning_rate[i], \"\\t\\t\\t\", result_oneAtATime[i], \"\\t\\t\", result_manyAtATime[i])"
      ],
      "execution_count": 56,
      "outputs": []
    },
    {
      "cell_type": "code",
      "metadata": {
        "id": "wHkL5Px53f__"
      },
      "source": [
        "bar_width = 0.4\n",
        "\n",
        "def displayBarChart(one_at_a_time, many_at_a_time):\n",
        "  x = np.arange(10)\n",
        "  plt.title('Perceptron Comparison')\n",
        "  plt.xlabel('Learning rate')\n",
        "  plt.ylabel('No of iterations')\n",
        "  plt.bar(x, one_at_a_time, bar_width, label = 'One at a time')\n",
        "  plt.bar(x+ bar_width, many_at_a_time, bar_width, label = 'Many at a time')\n",
        "  plt.xticks(x+0.2, ['0.1', '0.2', '0.3', '0.4', '0.5', '0.6', '0.7', '0.8', '0.9', '1.0'])\n",
        "  plt.legend(loc = 'best')\n",
        "  print()\n",
        "  plt.show()"
      ],
      "execution_count": 57,
      "outputs": []
    },
    {
      "cell_type": "code",
      "metadata": {
        "id": "K3itklz23nLO"
      },
      "source": [
        "learning_rate = [0.1, 0.2, 0.3, 0.4, 0.5, 0.6, 0.7, 0.8, 0.9, 1]\n",
        "result_oneAtATime_allZero = []\n",
        "result_manyAtATime_allZero = []\n",
        "result_oneAtATime_allOne = []\n",
        "result_manyAtATime_allOne = []\n",
        "result_oneAtATime_random = []\n",
        "result_manyAtATime_random = []"
      ],
      "execution_count": 58,
      "outputs": []
    },
    {
      "cell_type": "code",
      "metadata": {
        "colab": {
          "base_uri": "https://localhost:8080/",
          "height": 524
        },
        "id": "eBqhz6g33rTa",
        "outputId": "b6f0fd1d-91bf-4b1a-caa0-ccf726489dbe"
      },
      "source": [
        "#all zero\n",
        "initial_weight = np.zeros(6)\n",
        "result_oneAtATime_allZero = result_one(initial_weight, learning_rate)\n",
        "result_manyAtATime_allZero = result_many(initial_weight, learning_rate)\n",
        "print(\"For all zero:\")\n",
        "printResult(learning_rate, result_oneAtATime_allZero, result_manyAtATime_allZero)\n",
        "displayBarChart(result_oneAtATime_allZero, result_manyAtATime_allZero)\n"
      ],
      "execution_count": 59,
      "outputs": [
        {
          "output_type": "stream",
          "text": [
            "For all zero:\n",
            "Alpha(learning rate)\tOne at a time\tMany at a time\n",
            "0.1 \t\t\t 94 \t\t 105\n",
            "0.2 \t\t\t 94 \t\t 105\n",
            "0.3 \t\t\t 94 \t\t 92\n",
            "0.4 \t\t\t 94 \t\t 105\n",
            "0.5 \t\t\t 94 \t\t 92\n",
            "0.6 \t\t\t 94 \t\t 92\n",
            "0.7 \t\t\t 94 \t\t 92\n",
            "0.8 \t\t\t 94 \t\t 105\n",
            "0.9 \t\t\t 94 \t\t 105\n",
            "1 \t\t\t 94 \t\t 92\n",
            "\n"
          ],
          "name": "stdout"
        },
        {
          "output_type": "display_data",
          "data": {
            "image/png": "[encoded data removed]",
            "text/plain": [
              "<Figure size 432x288 with 1 Axes>"
            ]
          },
          "metadata": {
            "tags": [],
            "needs_background": "light"
          }
        }
      ]
    },
    {
      "cell_type": "code",
      "metadata": {
        "colab": {
          "base_uri": "https://localhost:8080/",
          "height": 559
        },
        "id": "5Nbj_f1u3ul-",
        "outputId": "fd352737-ec0c-4a34-e60d-10892e76e1e2"
      },
      "source": [
        "#all one\n",
        "initial_weight = np.ones(6)\n",
        "result_oneAtATime_allOne = result_one(initial_weight, learning_rate)\n",
        "result_manyAtATime_allOne = result_many(initial_weight, learning_rate)\n",
        "print(\"\\n\\nFor all one:\")\n",
        "printResult(learning_rate, result_oneAtATime_allOne, result_manyAtATime_allOne)\n",
        "displayBarChart(result_oneAtATime_allOne, result_manyAtATime_allOne)\n"
      ],
      "execution_count": 60,
      "outputs": [
        {
          "output_type": "stream",
          "text": [
            "\n",
            "\n",
            "For all one:\n",
            "Alpha(learning rate)\tOne at a time\tMany at a time\n",
            "0.1 \t\t\t 6 \t\t 102\n",
            "0.2 \t\t\t 92 \t\t 104\n",
            "0.3 \t\t\t 104 \t\t 91\n",
            "0.4 \t\t\t 106 \t\t 116\n",
            "0.5 \t\t\t 93 \t\t 105\n",
            "0.6 \t\t\t 93 \t\t 114\n",
            "0.7 \t\t\t 108 \t\t 91\n",
            "0.8 \t\t\t 115 \t\t 91\n",
            "0.9 \t\t\t 94 \t\t 105\n",
            "1 \t\t\t 94 \t\t 93\n",
            "\n"
          ],
          "name": "stdout"
        },
        {
          "output_type": "display_data",
          "data": {
            "image/png": "[encoded data removed]",
            "text/plain": [
              "<Figure size 432x288 with 1 Axes>"
            ]
          },
          "metadata": {
            "tags": [],
            "needs_background": "light"
          }
        }
      ]
    },
    {
      "cell_type": "code",
      "metadata": {
        "colab": {
          "base_uri": "https://localhost:8080/",
          "height": 559
        },
        "id": "KhibOwD233nu",
        "outputId": "e28d54dd-151f-4d4d-b35e-0eb34096feca"
      },
      "source": [
        "#random\n",
        "np.random.seed(0) #seed = 0\n",
        "initial_weight = np.random.rand(6)\n",
        "result_oneAtATime_random = result_one(initial_weight, learning_rate)\n",
        "result_manyAtATime_random = result_many(initial_weight, learning_rate)\n",
        "print(\"\\n\\nFor random:\")\n",
        "printResult(learning_rate, result_oneAtATime_random, result_manyAtATime_random)\n",
        "displayBarChart(result_oneAtATime_random, result_manyAtATime_random)\n"
      ],
      "execution_count": 61,
      "outputs": [
        {
          "output_type": "stream",
          "text": [
            "\n",
            "\n",
            "For random:\n",
            "Alpha(learning rate)\tOne at a time\tMany at a time\n",
            "0.1 \t\t\t 105 \t\t 98\n",
            "0.2 \t\t\t 109 \t\t 104\n",
            "0.3 \t\t\t 93 \t\t 105\n",
            "0.4 \t\t\t 108 \t\t 117\n",
            "0.5 \t\t\t 96 \t\t 106\n",
            "0.6 \t\t\t 94 \t\t 106\n",
            "0.7 \t\t\t 97 \t\t 101\n",
            "0.8 \t\t\t 84 \t\t 105\n",
            "0.9 \t\t\t 94 \t\t 122\n",
            "1 \t\t\t 105 \t\t 88\n",
            "\n"
          ],
          "name": "stdout"
        },
        {
          "output_type": "display_data",
          "data": {
            "image/png": "[encoded data removed]",
            "text/plain": [
              "<Figure size 432x288 with 1 Axes>"
            ]
          },
          "metadata": {
            "tags": [],
            "needs_background": "light"
          }
        }
      ]
    },
    {
      "cell_type": "markdown",
      "metadata": {
        "id": "juM6s32PETYf"
      },
      "source": [
        "a.In task 2 why do we need to take the sample points to a high dimension?\n",
        "\n",
        "**Ans:** We need to take sample points in a higher dimension because when datasets are linear, the decision boundary will work perfectly.If the data is non-linear, we will not get the correct hyperplane.Also, they are not linearly separable.For making these points linearly separable, we need to take it to a higher dimension.\n",
        " \n"
      ]
    },
    {
      "cell_type": "markdown",
      "metadata": {
        "id": "T9qCBcmZFaKF"
      },
      "source": [
        "b.In each of the three initial weight cases and for each learning rate, how many updates does the algorithm take before converging?\n",
        "\n",
        "**Ans:** For Initial weight zero the number of interations are given below\n"
      ]
    },
    {
      "cell_type": "code",
      "metadata": {
        "colab": {
          "base_uri": "https://localhost:8080/"
        },
        "id": "pY8UBA5y39oC",
        "outputId": "3059eeb4-90d8-4b8f-dad3-44b7632d90a5"
      },
      "source": [
        "#all zero\n",
        "initial_weight = np.zeros(6)\n",
        "result_oneAtATime_allZero = result_one(initial_weight, learning_rate)\n",
        "result_manyAtATime_allZero = result_many(initial_weight, learning_rate)\n",
        "print(\"For all zero:\")\n",
        "printResult(learning_rate, result_oneAtATime_allZero, result_manyAtATime_allZero)\n",
        "#displayBarChart(result_oneAtATime_allZero, result_manyAtATime_allZero)\n"
      ],
      "execution_count": 64,
      "outputs": [
        {
          "output_type": "stream",
          "text": [
            "For all zero:\n",
            "Alpha(learning rate)\tOne at a time\tMany at a time\n",
            "0.1 \t\t\t 94 \t\t 105\n",
            "0.2 \t\t\t 94 \t\t 105\n",
            "0.3 \t\t\t 94 \t\t 92\n",
            "0.4 \t\t\t 94 \t\t 105\n",
            "0.5 \t\t\t 94 \t\t 92\n",
            "0.6 \t\t\t 94 \t\t 92\n",
            "0.7 \t\t\t 94 \t\t 92\n",
            "0.8 \t\t\t 94 \t\t 105\n",
            "0.9 \t\t\t 94 \t\t 105\n",
            "1 \t\t\t 94 \t\t 92\n"
          ],
          "name": "stdout"
        }
      ]
    },
    {
      "cell_type": "markdown",
      "metadata": {
        "id": "9ZeW4nREGMTl"
      },
      "source": [
        "For Initial weight one the number of interations are given below\n"
      ]
    },
    {
      "cell_type": "code",
      "metadata": {
        "colab": {
          "base_uri": "https://localhost:8080/"
        },
        "id": "-EK1OkUIGHad",
        "outputId": "2f7e2562-7680-44e7-ddfb-4835faadee6e"
      },
      "source": [
        "#all one\n",
        "initial_weight = np.ones(6)\n",
        "result_oneAtATime_allOne = result_one(initial_weight, learning_rate)\n",
        "result_manyAtATime_allOne = result_many(initial_weight, learning_rate)\n",
        "print(\"\\n\\nFor all one:\")\n",
        "printResult(learning_rate, result_oneAtATime_allOne, result_manyAtATime_allOne)\n",
        "#displayBarChart(result_oneAtATime_allOne, result_manyAtATime_allOne)\n"
      ],
      "execution_count": 66,
      "outputs": [
        {
          "output_type": "stream",
          "text": [
            "\n",
            "\n",
            "For all one:\n",
            "Alpha(learning rate)\tOne at a time\tMany at a time\n",
            "0.1 \t\t\t 6 \t\t 102\n",
            "0.2 \t\t\t 92 \t\t 104\n",
            "0.3 \t\t\t 104 \t\t 91\n",
            "0.4 \t\t\t 106 \t\t 116\n",
            "0.5 \t\t\t 93 \t\t 105\n",
            "0.6 \t\t\t 93 \t\t 114\n",
            "0.7 \t\t\t 108 \t\t 91\n",
            "0.8 \t\t\t 115 \t\t 91\n",
            "0.9 \t\t\t 94 \t\t 105\n",
            "1 \t\t\t 94 \t\t 93\n"
          ],
          "name": "stdout"
        }
      ]
    },
    {
      "cell_type": "markdown",
      "metadata": {
        "id": "Ojf0dh7KGtAL"
      },
      "source": [
        "For Initial weight which are taken as random, the number of interations are given below\n"
      ]
    },
    {
      "cell_type": "code",
      "metadata": {
        "colab": {
          "base_uri": "https://localhost:8080/"
        },
        "id": "Q1QLBPQ9GsBC",
        "outputId": "99182129-6dd4-4ab4-d41f-555f37b3b25b"
      },
      "source": [
        "#random\n",
        "np.random.seed(0) #seed = 0\n",
        "initial_weight = np.random.rand(6)\n",
        "result_oneAtATime_random = result_one(initial_weight, learning_rate)\n",
        "result_manyAtATime_random = result_many(initial_weight, learning_rate)\n",
        "print(\"\\n\\nFor random:\")\n",
        "printResult(learning_rate, result_oneAtATime_random, result_manyAtATime_random)\n",
        "#displayBarChart(result_oneAtATime_random, result_manyAtATime_random)\n"
      ],
      "execution_count": 67,
      "outputs": [
        {
          "output_type": "stream",
          "text": [
            "\n",
            "\n",
            "For random:\n",
            "Alpha(learning rate)\tOne at a time\tMany at a time\n",
            "0.1 \t\t\t 105 \t\t 98\n",
            "0.2 \t\t\t 109 \t\t 104\n",
            "0.3 \t\t\t 93 \t\t 105\n",
            "0.4 \t\t\t 108 \t\t 117\n",
            "0.5 \t\t\t 96 \t\t 106\n",
            "0.6 \t\t\t 94 \t\t 106\n",
            "0.7 \t\t\t 97 \t\t 101\n",
            "0.8 \t\t\t 84 \t\t 105\n",
            "0.9 \t\t\t 94 \t\t 122\n",
            "1 \t\t\t 105 \t\t 88\n"
          ],
          "name": "stdout"
        }
      ]
    },
    {
      "cell_type": "code",
      "metadata": {
        "id": "C63NUGHzG3Ym"
      },
      "source": [
        ""
      ],
      "execution_count": null,
      "outputs": []
    }
  ]
}